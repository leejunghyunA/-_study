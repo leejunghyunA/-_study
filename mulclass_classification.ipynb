{
  "nbformat": 4,
  "nbformat_minor": 0,
  "metadata": {
    "colab": {
      "provenance": [],
      "mount_file_id": "1RlwG97d54BxZajBksiBKqwlq0IZzUQGR",
      "authorship_tag": "ABX9TyPD0ywYyhw5ueWpuELi+wfh",
      "include_colab_link": true
    },
    "kernelspec": {
      "name": "python3",
      "display_name": "Python 3"
    },
    "language_info": {
      "name": "python"
    },
    "accelerator": "GPU",
    "gpuClass": "standard"
  },
  "cells": [
    {
      "cell_type": "markdown",
      "metadata": {
        "id": "view-in-github",
        "colab_type": "text"
      },
      "source": [
        "<a href=\"https://colab.research.google.com/github/leejunghyunA/deeplearning-_study/blob/main/mulclass_classification.ipynb\" target=\"_parent\"><img src=\"https://colab.research.google.com/assets/colab-badge.svg\" alt=\"Open In Colab\"/></a>"
      ]
    },
    {
      "cell_type": "code",
      "execution_count": null,
      "metadata": {
        "id": "EZ5tblvXAUUq"
      },
      "outputs": [],
      "source": [
        "import torch\n",
        "from torchvision import datasets,transforms\n",
        "import matplotlib.pyplot as plt"
      ]
    },
    {
      "cell_type": "markdown",
      "source": [
        "## 구글 드라이브와 연동 (코랩 새로 켤때마다 지워지기 땜에)"
      ],
      "metadata": {
        "id": "XnTEK09nAqSt"
      }
    },
    {
      "cell_type": "code",
      "source": [
        "from google.colab import drive\n",
        "drive.mount('/content/drive')"
      ],
      "metadata": {
        "colab": {
          "base_uri": "https://localhost:8080/"
        },
        "id": "K_pBb7qWApDl",
        "outputId": "1a09e1ff-9a34-4ab7-db02-640fca8e66d0"
      },
      "execution_count": null,
      "outputs": [
        {
          "output_type": "stream",
          "name": "stdout",
          "text": [
            "Drive already mounted at /content/drive; to attempt to forcibly remount, call drive.mount(\"/content/drive\", force_remount=True).\n"
          ]
        }
      ]
    },
    {
      "cell_type": "markdown",
      "source": [
        "## 구글 GPU 좀 써보자"
      ],
      "metadata": {
        "id": "nI94pLVJBi7Y"
      }
    },
    {
      "cell_type": "code",
      "source": [
        "DEVICE = \"cuda\" if torch.cuda.is_available() else \"cpu\"\n",
        "print(DEVICE)"
      ],
      "metadata": {
        "colab": {
          "base_uri": "https://localhost:8080/"
        },
        "id": "32MiEtNkBHGS",
        "outputId": "b55f4bf5-a827-4e48-9e99-235ca772b1ac"
      },
      "execution_count": null,
      "outputs": [
        {
          "output_type": "stream",
          "name": "stdout",
          "text": [
            "cuda\n"
          ]
        }
      ]
    },
    {
      "cell_type": "code",
      "source": [
        "torch.cuda.is_available()"
      ],
      "metadata": {
        "colab": {
          "base_uri": "https://localhost:8080/"
        },
        "id": "PpUlfKqEBnif",
        "outputId": "7650ffc3-f0ff-4181-e525-b41f4a51ca99"
      },
      "execution_count": null,
      "outputs": [
        {
          "output_type": "execute_result",
          "data": {
            "text/plain": [
              "True"
            ]
          },
          "metadata": {},
          "execution_count": 107
        }
      ]
    },
    {
      "cell_type": "markdown",
      "source": [
        "## train_DS와 test_DS 구경"
      ],
      "metadata": {
        "id": "1eS4Spt3CbBF"
      }
    },
    {
      "cell_type": "code",
      "source": [
        "# 데이터 다운\n",
        "transform = transforms.ToTensor() # tensor로 변경\n",
        "train_DS = datasets.MNIST(root = '/content/drive/MyDrive/파이토치 학습/data', train = True, download = True, transform = transform) # transform : 데이터를 위에서 지정한 텐서형태로 변경\n",
        "test_DS = datasets.MNIST(root = '/content/drive/MyDrive/파이토치 학습/data', train = False, download = True, transform = transform) # transform : 데이터를 위에서 지정한 텐서형태로 변경\n"
      ],
      "metadata": {
        "id": "eCk_zpDtBymI"
      },
      "execution_count": null,
      "outputs": []
    },
    {
      "cell_type": "code",
      "source": [
        "# 데이터 확인 \n",
        "\n",
        "print(train_DS)\n",
        "print(test_DS)"
      ],
      "metadata": {
        "colab": {
          "base_uri": "https://localhost:8080/"
        },
        "id": "I_bJrutFDek5",
        "outputId": "442bba2e-8cbe-4ceb-de6c-e217cc4e06d4"
      },
      "execution_count": null,
      "outputs": [
        {
          "output_type": "stream",
          "name": "stdout",
          "text": [
            "Dataset MNIST\n",
            "    Number of datapoints: 60000\n",
            "    Root location: /content/drive/MyDrive/파이토치 학습/data\n",
            "    Split: Train\n",
            "    StandardTransform\n",
            "Transform: ToTensor()\n",
            "Dataset MNIST\n",
            "    Number of datapoints: 10000\n",
            "    Root location: /content/drive/MyDrive/파이토치 학습/data\n",
            "    Split: Test\n",
            "    StandardTransform\n",
            "Transform: ToTensor()\n"
          ]
        }
      ]
    },
    {
      "cell_type": "code",
      "source": [
        "train_DS.classes # . 뒤에서 탭 하면 이것저것 볼 수 있는 게 뜬다"
      ],
      "metadata": {
        "colab": {
          "base_uri": "https://localhost:8080/"
        },
        "id": "PuagpstWDmkh",
        "outputId": "361b96bc-f85a-4a2e-b636-4a3404c84134"
      },
      "execution_count": null,
      "outputs": [
        {
          "output_type": "execute_result",
          "data": {
            "text/plain": [
              "['0 - zero',\n",
              " '1 - one',\n",
              " '2 - two',\n",
              " '3 - three',\n",
              " '4 - four',\n",
              " '5 - five',\n",
              " '6 - six',\n",
              " '7 - seven',\n",
              " '8 - eight',\n",
              " '9 - nine']"
            ]
          },
          "metadata": {},
          "execution_count": 110
        }
      ]
    },
    {
      "cell_type": "code",
      "source": [
        "train_DS.class_to_idx"
      ],
      "metadata": {
        "colab": {
          "base_uri": "https://localhost:8080/"
        },
        "id": "C9G-T5DODyPx",
        "outputId": "2b902757-f35c-423a-e201-d735de920bbe"
      },
      "execution_count": null,
      "outputs": [
        {
          "output_type": "execute_result",
          "data": {
            "text/plain": [
              "{'0 - zero': 0,\n",
              " '1 - one': 1,\n",
              " '2 - two': 2,\n",
              " '3 - three': 3,\n",
              " '4 - four': 4,\n",
              " '5 - five': 5,\n",
              " '6 - six': 6,\n",
              " '7 - seven': 7,\n",
              " '8 - eight': 8,\n",
              " '9 - nine': 9}"
            ]
          },
          "metadata": {},
          "execution_count": 111
        }
      ]
    },
    {
      "cell_type": "code",
      "source": [
        "plt.imshow(train_DS.data[0], cmap = 'gray')\n",
        "plt.colorbar()"
      ],
      "metadata": {
        "colab": {
          "base_uri": "https://localhost:8080/",
          "height": 283
        },
        "id": "dWTy0xsCD2Wu",
        "outputId": "37a03f93-be91-4b10-83dd-c1547874b0f0"
      },
      "execution_count": null,
      "outputs": [
        {
          "output_type": "execute_result",
          "data": {
            "text/plain": [
              "<matplotlib.colorbar.Colorbar at 0x7fccc6fcd2b0>"
            ]
          },
          "metadata": {},
          "execution_count": 112
        },
        {
          "output_type": "display_data",
          "data": {
            "text/plain": [
              "<Figure size 432x288 with 2 Axes>"
            ],
            "image/png": "[encoded data removed]"
          },
          "metadata": {
            "needs_background": "light"
          }
        }
      ]
    },
    {
      "cell_type": "code",
      "source": [
        "print(train_DS.targets[0])"
      ],
      "metadata": {
        "colab": {
          "base_uri": "https://localhost:8080/"
        },
        "id": "gD_SPVpiGujR",
        "outputId": "b05a513a-c42f-4ca3-9571-3cc24f4f0d8d"
      },
      "execution_count": null,
      "outputs": [
        {
          "output_type": "stream",
          "name": "stdout",
          "text": [
            "tensor(5)\n"
          ]
        }
      ]
    },
    {
      "cell_type": "markdown",
      "source": [
        "## DataLoader 구경"
      ],
      "metadata": {
        "id": "p7pxrYQFHB4W"
      }
    },
    {
      "cell_type": "code",
      "source": [
        "# SGD를 위하기 전 섞어주기\n",
        "BATCH_SIZE = 32\n",
        "train_DL = torch.utils.data.DataLoader(train_DS, batch_size = BATCH_SIZE, shuffle = True)\n",
        "test_DL = torch.utils.data.DataLoader(test_DS, batch_size = BATCH_SIZE, shuffle=True)"
      ],
      "metadata": {
        "id": "A6DDxASIG6wp"
      },
      "execution_count": null,
      "outputs": []
    },
    {
      "cell_type": "code",
      "source": [
        "train_DL.dataset.classes"
      ],
      "metadata": {
        "colab": {
          "base_uri": "https://localhost:8080/"
        },
        "id": "vL-kulm6HokV",
        "outputId": "ac2f7434-c12c-4dc5-d09e-5fc3c5fa18ad"
      },
      "execution_count": null,
      "outputs": [
        {
          "output_type": "execute_result",
          "data": {
            "text/plain": [
              "['0 - zero',\n",
              " '1 - one',\n",
              " '2 - two',\n",
              " '3 - three',\n",
              " '4 - four',\n",
              " '5 - five',\n",
              " '6 - six',\n",
              " '7 - seven',\n",
              " '8 - eight',\n",
              " '9 - nine']"
            ]
          },
          "metadata": {},
          "execution_count": 115
        }
      ]
    },
    {
      "cell_type": "code",
      "source": [
        "x_batch, y_batch = next(iter(train_DL)) # 데이터 한 국자를 떠보기 (꺼내면서 transform 함수도 통과시킴)\n",
        "\n",
        "print(type(train_DS.data))\n",
        "print(type(x_batch))\n",
        "print(x_batch.shape) # 개x채x행x렬 (28,28 사이즈의 1채널을 가진 사진이 32장 있음)\n",
        "plt.imshow(x_batch[0].squeeze(), cmap = 'gray')\n",
        "plt.colorbar() # to tensor 중 (0과 1사이의 값으로 바꿔줌)\n",
        "\n",
        "print(train_DL.dataset.data.dtype)\n",
        "print(x_batch.dtype)\n",
        "# toTensor 역할\n",
        "# 1. tensor로 바꿔준다\n",
        "# 2. 개채행열로 바꿔준다\n",
        "# 3. 0~1 사이로 바꿔준다 (int -> float)"
      ],
      "metadata": {
        "colab": {
          "base_uri": "https://localhost:8080/",
          "height": 361
        },
        "id": "hIkxTPMlHqti",
        "outputId": "6d86341a-c806-4bc5-8652-0c71b8ae0be5"
      },
      "execution_count": null,
      "outputs": [
        {
          "output_type": "stream",
          "name": "stdout",
          "text": [
            "<class 'torch.Tensor'>\n",
            "<class 'torch.Tensor'>\n",
            "torch.Size([32, 1, 28, 28])\n",
            "torch.uint8\n",
            "torch.float32\n"
          ]
        },
        {
          "output_type": "display_data",
          "data": {
            "text/plain": [
              "<Figure size 432x288 with 2 Axes>"
            ],
            "image/png": "[encoded data removed]"
          },
          "metadata": {
            "needs_background": "light"
          }
        }
      ]
    },
    {
      "cell_type": "markdown",
      "source": [
        "## 본격적으로 model만들기"
      ],
      "metadata": {
        "id": "CvLakZnlJBld"
      }
    },
    {
      "cell_type": "code",
      "source": [
        "from torch import nn\n",
        "\n",
        "class MLP(nn.Module):\n",
        "  def __init__(self):\n",
        "    super().__init__()\n",
        "\n",
        "    self.linear = nn.Sequential(nn.Linear(28*28, 100), # 개x채 형태로 넣어야하니까 개: 32, 채: 1x28x28로 인식하도록 해서 28x28을 넣어줌\n",
        "                                nn.ReLU(),\n",
        "                                nn.Linear(100, 10)) # 노드를 10개로 빼줌 (총 개수가 10개로 분류)\n",
        "    \n",
        "  def forward(self, x):\n",
        "      x = torch.flatten(x, start_dim=1)\n",
        "      x = self.linear(x)\n",
        "      return x"
      ],
      "metadata": {
        "id": "DvhriI1GIHKk"
      },
      "execution_count": null,
      "outputs": []
    },
    {
      "cell_type": "code",
      "source": [
        "# flatten 확인\n",
        "x_batch, _ = next(iter(train_DL))\n",
        "print(x_batch.shape)\n",
        "\n",
        "flat_images = torch.flatten(x_batch) # 1d로 한번에 쫙펴버림\n",
        "print(flat_images.shape)\n",
        "\n",
        "flat_images2 = torch.flatten(x_batch, start_dim=1) # 펼치는 곳 위치를 정해줌\n",
        "print(flat_images2.shape)"
      ],
      "metadata": {
        "colab": {
          "base_uri": "https://localhost:8080/"
        },
        "id": "KXPz5lD9MC2-",
        "outputId": "a158c9dd-3c25-4665-82d5-e70975c850be"
      },
      "execution_count": null,
      "outputs": [
        {
          "output_type": "stream",
          "name": "stdout",
          "text": [
            "torch.Size([32, 1, 28, 28])\n",
            "torch.Size([25088])\n",
            "torch.Size([32, 784])\n"
          ]
        }
      ]
    },
    {
      "cell_type": "code",
      "source": [
        "model = MLP()\n",
        "print(model)\n",
        "x_batch, _ = next(iter(train_DL))\n",
        "print(model(x_batch).shape)"
      ],
      "metadata": {
        "colab": {
          "base_uri": "https://localhost:8080/"
        },
        "id": "4EaF688TLtAz",
        "outputId": "158fa7f9-5719-4cf2-fcb3-0c0c95629cef"
      },
      "execution_count": null,
      "outputs": [
        {
          "output_type": "stream",
          "name": "stdout",
          "text": [
            "MLP(\n",
            "  (linear): Sequential(\n",
            "    (0): Linear(in_features=784, out_features=100, bias=True)\n",
            "    (1): ReLU()\n",
            "    (2): Linear(in_features=100, out_features=10, bias=True)\n",
            "  )\n",
            ")\n",
            "torch.Size([32, 10])\n"
          ]
        }
      ]
    },
    {
      "cell_type": "code",
      "source": [
        "from torch import optim\n",
        "\n",
        "LR = 1e-3\n",
        "EPOCH = 5 \n",
        "criterion = nn.CrossEntropyLoss() \n",
        "\n",
        "def Train(model, train_DL, criterion, optimizer):\n",
        "\n",
        "    loss_history = []\n",
        "    NoT = len(train_DL.dataset)\n",
        "\n",
        "    model.train() # train mode로 전환\n",
        "    for ep in range(EPOCH):\n",
        "        rloss = 0 # running loss\n",
        "        for x_batch, y_batch in train_DL:\n",
        "            x_batch = x_batch.to(DEVICE)\n",
        "            y_batch = y_batch.to(DEVICE)\n",
        "\n",
        "            # inference\n",
        "            y_hat = model(x_batch)\n",
        "            # loss\n",
        "            loss = criterion(y_hat, y_batch)\n",
        "            # update\n",
        "            optimizer.zero_grad() # gradient 누적을 막기 위한 초기화\n",
        "            loss.backward() # backpropagation\n",
        "            optimizer.step() # weight update\n",
        "\n",
        "            #loss accumulation\n",
        "            loss_b = loss.item()*x_batch.shape[0] #batch loss # BATCH_SIZE를 곱하면 마지막 18개도 32개를 곱하니까..\n",
        "            rloss += loss_b #running loss\n",
        "        # print loss\n",
        "        loss_e = rloss/NoT # \n",
        "        loss_history += [loss_e]\n",
        "        print(f\"Epoch: {ep+1}, train loss: {round(loss.item(),3)}\")\n",
        "        print(\"-\"*20)\n",
        "\n",
        "    return loss_history"
      ],
      "metadata": {
        "id": "WWbwPsecL4R5"
      },
      "execution_count": null,
      "outputs": []
    },
    {
      "cell_type": "markdown",
      "source": [
        "## Cross Entropy 확인 (왜 모델에 softmax를 안붙였을까?)"
      ],
      "metadata": {
        "id": "I7DxHeRQPyyz"
      }
    },
    {
      "cell_type": "code",
      "source": [
        "# cross entropy 구하는 여러가지 방법\n",
        "import torch.nn.functional as F\n",
        "\n",
        "y_hat = torch.randn(3, 5) # data는 세 개, 5 종류로 분류하는 문제 가정\n",
        "print(y_hat) # 가로 축으로 합이 1이 아님, 즉, softmax 통과 전\n",
        "y_batch = torch.randint(5, (3,)) # 정답은 3개만 출련되므로 0~4중 3개를 출력\n",
        "print(y_batch)\n",
        "\n",
        "# 방법1\n",
        "loss = F.cross_entropy(y_hat, y_batch) # softmax가 내장\n",
        "print(loss)\n",
        "\n",
        "# 방법2\n",
        "criterion = nn.CrossEntropyLoss() # softmax가 내장 (방법3 과정이 안에 포함되어있음)\n",
        "print(criterion(y_hat, y_batch))\n",
        "\n",
        "# 방법3 (직접 구하기)\n",
        "y_hat_soft = F.softmax(y_hat, dim=1)\n",
        "print(y_hat_soft)\n",
        "loss = 0\n",
        "for i, val in enumerate(y_hat_soft):\n",
        "    loss += -torch.log(val[y_batch[i]])\n",
        "print(loss/3) # 평균이 내장되어있음을 알 수 있다"
      ],
      "metadata": {
        "colab": {
          "base_uri": "https://localhost:8080/"
        },
        "id": "IqoQveRsN2Mr",
        "outputId": "190b38ad-31c5-45b3-b3bc-8dac1b6c2a2a"
      },
      "execution_count": null,
      "outputs": [
        {
          "output_type": "stream",
          "name": "stdout",
          "text": [
            "tensor([[ 0.3131,  0.7809, -0.6463, -1.6526,  0.3572],\n",
            "        [-0.6978, -0.7878, -1.0368, -1.3582,  0.7726],\n",
            "        [-0.3819,  0.3804,  0.4563,  0.0823,  0.5626]])\n",
            "tensor([0, 1, 3])\n",
            "tensor(1.7767)\n",
            "tensor(1.7767)\n",
            "tensor([[0.2401, 0.3833, 0.0920, 0.0336, 0.2509],\n",
            "        [0.1334, 0.1220, 0.0951, 0.0689, 0.5806],\n",
            "        [0.1040, 0.2228, 0.2404, 0.1654, 0.2674]])\n",
            "tensor(1.7767)\n"
          ]
        }
      ]
    },
    {
      "cell_type": "markdown",
      "source": [
        "## 모델 학습시키기"
      ],
      "metadata": {
        "id": "X_xtOgeQR7Ij"
      }
    },
    {
      "cell_type": "code",
      "source": [
        "model = MLP().to(DEVICE)\n",
        "optimizer = optim.Adam(model.parameters(), lr = LR)\n",
        "loss_history = Train(model, train_DL, criterion, optimizer)\n",
        "\n",
        "plt.plot(range(1,EPOCH+1),loss_history)\n",
        "plt.xlabel(\"EPOCH\")\n",
        "plt.ylabel('loss')\n",
        "plt.title('Train Loss')\n",
        "plt.grid()"
      ],
      "metadata": {
        "colab": {
          "base_uri": "https://localhost:8080/",
          "height": 480
        },
        "id": "JX4BbCV9QWn_",
        "outputId": "9b4540e3-878a-4e7f-b3a8-a5b069ed8515"
      },
      "execution_count": null,
      "outputs": [
        {
          "output_type": "stream",
          "name": "stdout",
          "text": [
            "Epoch: 1, train loss: 0.288\n",
            "--------------------\n",
            "Epoch: 2, train loss: 0.076\n",
            "--------------------\n",
            "Epoch: 3, train loss: 0.239\n",
            "--------------------\n",
            "Epoch: 4, train loss: 0.166\n",
            "--------------------\n",
            "Epoch: 5, train loss: 0.04\n",
            "--------------------\n"
          ]
        },
        {
          "output_type": "display_data",
          "data": {
            "text/plain": [
              "<Figure size 432x288 with 1 Axes>"
            ],
            "image/png": "[encoded data removed]"
          },
          "metadata": {
            "needs_background": "light"
          }
        }
      ]
    },
    {
      "cell_type": "markdown",
      "source": [
        "## 모델 저장하기 & 불러오기"
      ],
      "metadata": {
        "id": "Zq1m3cwUSQ2-"
      }
    },
    {
      "cell_type": "code",
      "source": [
        "save_model_path = '/content/drive/MyDrive/파이토치 학습/result/MLP_MNIST'\n",
        "torch.save(model.state_dict(), save_model_path)"
      ],
      "metadata": {
        "id": "4L54HV0nSQKn"
      },
      "execution_count": null,
      "outputs": []
    },
    {
      "cell_type": "code",
      "source": [
        "load_model = MLP().to(DEVICE)\n",
        "load_model.load_state_dict(torch.load(save_model_path, map_location=DEVICE))\n",
        "# map_location 있어야 GPU로 학습했던 거 현재 device로 불러올 수 있음"
      ],
      "metadata": {
        "colab": {
          "base_uri": "https://localhost:8080/"
        },
        "id": "pz1EujvFSqnF",
        "outputId": "ddc02d24-63fe-4d37-d401-37d82dd5d39b"
      },
      "execution_count": null,
      "outputs": [
        {
          "output_type": "execute_result",
          "data": {
            "text/plain": [
              "<All keys matched successfully>"
            ]
          },
          "metadata": {},
          "execution_count": 125
        }
      ]
    },
    {
      "cell_type": "markdown",
      "source": [
        "## 모델 테스트하기"
      ],
      "metadata": {
        "id": "NTLwETUuUsiY"
      }
    },
    {
      "cell_type": "code",
      "source": [
        "def Test(model, test_DL):\n",
        "    model.eval() # test mode로 전환\n",
        "    with torch.no_grad():\n",
        "        rcorrect = 0\n",
        "        for x_batch, y_batch in test_DL: # gpu 통과될때 한국자씩 떠서 주기(용량때문에)\n",
        "            x_batch = x_batch.to(DEVICE)\n",
        "            y_batch = y_batch.to(DEVICE)\n",
        "            #inference\n",
        "            y_hat = model(x_batch)\n",
        "            pred = y_hat.argmax(dim = 1)\n",
        "\n",
        "            # 맞춘개수, accumulation\n",
        "            corrects_b = torch.sum(pred==y_batch).item()\n",
        "            rcorrect += corrects_b # 누적\n",
        "        accuracy_e = rcorrect/len(test_DL.dataset)*100\n",
        "    print(f\"Test accuracy: {rcorrect}/{len(test_DL.dataset)} ({round(accuracy_e,1)} %)\")\n",
        "    return round(accuracy_e, 1)"
      ],
      "metadata": {
        "id": "7arSFsZwUp_T"
      },
      "execution_count": null,
      "outputs": []
    },
    {
      "cell_type": "code",
      "source": [
        "Test(load_model, test_DL)"
      ],
      "metadata": {
        "colab": {
          "base_uri": "https://localhost:8080/"
        },
        "id": "1YF7V4BoWSfh",
        "outputId": "17690187-2eff-4b6d-9ffc-3c5fa35fb033"
      },
      "execution_count": null,
      "outputs": [
        {
          "output_type": "stream",
          "name": "stdout",
          "text": [
            "Test accuracy: 9721/10000 (97.2 %)\n"
          ]
        },
        {
          "output_type": "execute_result",
          "data": {
            "text/plain": [
              "97.2"
            ]
          },
          "metadata": {},
          "execution_count": 130
        }
      ]
    },
    {
      "cell_type": "code",
      "source": [
        "def Test_plot(model, test_DL):\n",
        "    model.eval()\n",
        "    with torch.no_grad():\n",
        "        x_batch, y_batch = next(iter(test_DL))\n",
        "        x_batch = x_batch.to(DEVICE)\n",
        "        y_hat = model(x_batch)\n",
        "        pred = y_hat.argmax(dim=1)\n",
        "\n",
        "    x_batch = x_batch.to(\"cpu\") # gpu상태에서는 imshow가 안되서 cpu로 변경 필요\n",
        "\n",
        "    plt.figure(figsize=(8,4))\n",
        "    for idx in range(6):\n",
        "        plt.subplot(2,3, idx+1, xticks=[], yticks=[])\n",
        "        plt.imshow(x_batch[idx].permute(1,2,0).squeeze(), cmap=\"gray\")\n",
        "        pred_class = test_DL.dataset.classes[pred[idx]]\n",
        "        true_class = test_DL.dataset.classes[y_batch[idx]]\n",
        "        plt.title(f\"{pred_class} ({true_class})\", color = \"g\" if pred_class==true_class else \"r\") "
      ],
      "metadata": {
        "id": "VM5uVxBeYPcI"
      },
      "execution_count": null,
      "outputs": []
    },
    {
      "cell_type": "code",
      "source": [
        "Test_plot(load_model, test_DL)"
      ],
      "metadata": {
        "colab": {
          "base_uri": "https://localhost:8080/",
          "height": 268
        },
        "id": "ih06yQaRYR6Q",
        "outputId": "e4175c2b-f2c9-4d90-b030-6a2374c0b8a7"
      },
      "execution_count": null,
      "outputs": [
        {
          "output_type": "display_data",
          "data": {
            "text/plain": [
              "<Figure size 576x288 with 6 Axes>"
            ],
            "image/png": "[encoded data removed]"
          },
          "metadata": {}
        }
      ]
    },
    {
      "cell_type": "code",
      "source": [
        "# 파라미터 수 구하기\n",
        "def count_params(model):\n",
        "    num = sum([p.numel() for p in model.parameters() if p.requires_grad])\n",
        "    return num"
      ],
      "metadata": {
        "id": "qIfd2Q_LXsiD"
      },
      "execution_count": null,
      "outputs": []
    },
    {
      "cell_type": "code",
      "source": [
        "print(count_params(load_model))"
      ],
      "metadata": {
        "colab": {
          "base_uri": "https://localhost:8080/"
        },
        "id": "hpAqYvXxYEX0",
        "outputId": "e931557e-a817-43d5-c10e-cf09c84d4249"
      },
      "execution_count": null,
      "outputs": [
        {
          "output_type": "stream",
          "name": "stdout",
          "text": [
            "79510\n"
          ]
        }
      ]
    },
    {
      "cell_type": "code",
      "source": [],
      "metadata": {
        "id": "NH67lk8HYGlx"
      },
      "execution_count": null,
      "outputs": []
    }
  ]
}