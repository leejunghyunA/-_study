{
  "nbformat": 4,
  "nbformat_minor": 0,
  "metadata": {
    "colab": {
      "provenance": [],
      "authorship_tag": "ABX9TyO2AT9fzTe5/5+TP4Tk8Co8",
      "include_colab_link": true
    },
    "kernelspec": {
      "name": "python3",
      "display_name": "Python 3"
    },
    "language_info": {
      "name": "python"
    }
  },
  "cells": [
    {
      "cell_type": "markdown",
      "metadata": {
        "id": "view-in-github",
        "colab_type": "text"
      },
      "source": [
        "<a href=\"https://colab.research.google.com/github/leejunghyunA/deeplearning-_study/blob/main/mininet_test.ipynb\" target=\"_parent\"><img src=\"https://colab.research.google.com/assets/colab-badge.svg\" alt=\"Open In Colab\"/></a>"
      ]
    },
    {
      "cell_type": "code",
      "execution_count": null,
      "metadata": {
        "id": "j1-NXA1ljEOW"
      },
      "outputs": [],
      "source": [
        "# 작은 단위의 layer 먼저 만들기\n",
        "import torch\n",
        "from torch import nn"
      ]
    },
    {
      "cell_type": "code",
      "source": [
        "x = torch.randn(100,3)\n",
        "layer = nn.Linear(3,5)\n",
        "print(layer(x).shape)\n",
        "print(layer.weight)\n",
        "print(layer.bias)"
      ],
      "metadata": {
        "colab": {
          "base_uri": "https://localhost:8080/"
        },
        "id": "j4h2Z9dZjXvZ",
        "outputId": "702155c8-ae67-4a12-9c10-38a53ff553e5"
      },
      "execution_count": null,
      "outputs": [
        {
          "output_type": "stream",
          "name": "stdout",
          "text": [
            "torch.Size([100, 5])\n",
            "Parameter containing:\n",
            "tensor([[-0.2932,  0.0778,  0.0877],\n",
            "        [ 0.2307,  0.4677, -0.0518],\n",
            "        [ 0.3353, -0.3334,  0.3464],\n",
            "        [-0.2683, -0.2720, -0.4440],\n",
            "        [-0.3229,  0.0467,  0.1786]], requires_grad=True)\n",
            "Parameter containing:\n",
            "tensor([ 0.3515, -0.4629, -0.5352,  0.1648,  0.2828], requires_grad=True)\n"
          ]
        }
      ]
    },
    {
      "cell_type": "code",
      "source": [
        "x = torch.randn(2,5)\n",
        "layer = nn.ReLU() # 양수면 그대로, 음수면 0을 출력하는 함수\n",
        "print(layer(x))"
      ],
      "metadata": {
        "colab": {
          "base_uri": "https://localhost:8080/"
        },
        "id": "iCbVOtZWjjNB",
        "outputId": "39f74891-228d-4d24-f62e-bb85091900fe"
      },
      "execution_count": null,
      "outputs": [
        {
          "output_type": "stream",
          "name": "stdout",
          "text": [
            "tensor([[0.1046, 0.0000, 0.1250, 1.2932, 1.3944],\n",
            "        [0.7684, 0.0972, 1.3836, 0.6648, 0.6989]])\n"
          ]
        }
      ]
    },
    {
      "cell_type": "code",
      "source": [
        "x = torch.randn(3,7)\n",
        "drop = nn.Dropout(p=0.3)# p는 죽일 확률\n",
        "print(drop(x))"
      ],
      "metadata": {
        "colab": {
          "base_uri": "https://localhost:8080/"
        },
        "id": "UUbq0lnfj6KW",
        "outputId": "8198aa97-34f9-410a-b2ce-b43754032be8"
      },
      "execution_count": null,
      "outputs": [
        {
          "output_type": "stream",
          "name": "stdout",
          "text": [
            "tensor([[ 1.3721,  0.0000,  0.7538,  0.8716,  2.7066,  0.0000, -0.8607],\n",
            "        [ 0.0000,  1.0584,  1.7092, -2.3161,  0.2332, -0.7191,  2.1536],\n",
            "        [-0.0000, -0.3797, -0.0000,  0.0000,  2.7992,  1.7068, -0.9299]])\n"
          ]
        }
      ]
    },
    {
      "cell_type": "code",
      "source": [
        "# train과 evaluation 확인\n",
        "class sample_model(nn.Module):\n",
        "    def __init__(self):\n",
        "        super().__init__()\n",
        "        self.drop_layer=nn.Sequential(nn.Linear(5,7),\n",
        "                                      nn.Dropout(p=0.3))\n",
        "                                      \n",
        "    def forward(self, x):\n",
        "        x = self.drop_layer(x)\n",
        "        return x\n",
        "\n",
        "model=sample_model()\n",
        "model.train() # train mode로 전환\n",
        "x=torch.randn(3,5) # 그 담에 x=torch.randn(2,3,5)\n",
        "print(model(x))\n",
        "\n",
        "model.eval()\n",
        "print(model(x)) # test mode (0이 1개도 없음_dropout은 test와 train때랑 다름 : 이유? dropout전 값에 0.7을 곱해줌줌)"
      ],
      "metadata": {
        "colab": {
          "base_uri": "https://localhost:8080/"
        },
        "id": "6Hs7rgDqkEVJ",
        "outputId": "d1cc2e09-30c4-4be6-970e-e779205d356d"
      },
      "execution_count": null,
      "outputs": [
        {
          "output_type": "stream",
          "name": "stdout",
          "text": [
            "tensor([[-0.7414, -0.0000,  0.8323, -0.0000, -0.2257,  1.2635, -1.4077],\n",
            "        [-0.6035,  0.0000,  1.2028,  0.0000, -0.0631, -0.2631, -2.0991],\n",
            "        [ 1.4479, -2.5034, -0.3024,  0.0681, -0.0000, -0.3815,  2.8269]],\n",
            "       grad_fn=<MulBackward0>)\n",
            "tensor([[-0.5190, -0.1981,  0.5826, -0.0238, -0.1580,  0.8844, -0.9854],\n",
            "        [-0.4224,  0.7566,  0.8419,  0.4887, -0.0442, -0.1842, -1.4694],\n",
            "        [ 1.0135, -1.7524, -0.2117,  0.0477, -0.2945, -0.2670,  1.9788]],\n",
            "       grad_fn=<AddmmBackward0>)\n"
          ]
        }
      ]
    },
    {
      "cell_type": "code",
      "source": [
        "layer = nn.Conv2d(in_channels = 1, out_channels = 2, kernel_size = 3) # stride=1, padding=0 이 디폴트 \n",
        "layer(torch.randn(32, 1, 5, 5)).shape"
      ],
      "metadata": {
        "colab": {
          "base_uri": "https://localhost:8080/"
        },
        "id": "oEDxFxsmlC0T",
        "outputId": "01be90fe-acd6-45e6-9938-da2612417a9f"
      },
      "execution_count": null,
      "outputs": [
        {
          "output_type": "execute_result",
          "data": {
            "text/plain": [
              "torch.Size([32, 2, 3, 3])"
            ]
          },
          "metadata": {},
          "execution_count": 7
        }
      ]
    },
    {
      "cell_type": "code",
      "source": [
        "layer = nn.Conv2d(in_channels=1, out_channels=2, kernel_size=3) # stride=1, padding=0 이 디폴트\n",
        "layer(torch.randn(32,1,5,5)).shape\n",
        "# nn.Linear(3,5) # 채채 # 근데 얘는 채 또는 개채를 원함, 개x3 => 개x5\n",
        "# nn.Conv2d(3,5) # 채채 # 근데 얘는 채행열 또는 개채행열을 원함, 개x3x행x열 => 개x5x행x열"
      ],
      "metadata": {
        "colab": {
          "base_uri": "https://localhost:8080/"
        },
        "id": "X-44LEaYmsUN",
        "outputId": "2959d4c4-5b09-40c2-dcc8-f8a3c1de6197"
      },
      "execution_count": null,
      "outputs": [
        {
          "output_type": "execute_result",
          "data": {
            "text/plain": [
              "torch.Size([32, 2, 3, 3])"
            ]
          },
          "metadata": {},
          "execution_count": 10
        }
      ]
    },
    {
      "cell_type": "code",
      "source": [
        "layer = nn.Conv2d(3, 5, 3) # weight (=필터=커널)가 3x3x3짜리 5개 존재(5x3x3x3)\n",
        "print(layer(torch.randn(35, 3, 5, 5)).shape)\n",
        "print(layer.weight.shape)"
      ],
      "metadata": {
        "colab": {
          "base_uri": "https://localhost:8080/"
        },
        "id": "wovtSbzyn1DT",
        "outputId": "73fce3a6-f9da-4e80-c6c7-96fa78522887"
      },
      "execution_count": null,
      "outputs": [
        {
          "output_type": "stream",
          "name": "stdout",
          "text": [
            "torch.Size([35, 5, 3, 3])\n",
            "torch.Size([5, 3, 3, 3])\n"
          ]
        }
      ]
    },
    {
      "cell_type": "code",
      "source": [
        "conv1 = nn.Conv2d(1,8,6, stride = 2)\n",
        "x = torch.randn(32,1,28,28)\n",
        "print(conv1(x).shape)\n",
        "# 8x1x6x6 (8개의 특징으로 뽑아냄)\n",
        "\n",
        "conv2 = nn.Conv2d(8,16,3, padding = 1) # 위에서 8개를 뽑아냈으므로 8개의 채널을 가진 걸16개로 뽑아냄냄\n",
        "print(conv2(conv1(x)).shape)\n",
        "\n",
        "#maxpooling (Maxpool 2로만 줘도 자동으로 kernel_size = 2, stride = 2)\n",
        "Maxpool = nn.MaxPool2d(kernel_size = 2, stride = (2,2))\n",
        "print(Maxpool(conv2(conv1(x))).shape)"
      ],
      "metadata": {
        "colab": {
          "base_uri": "https://localhost:8080/"
        },
        "id": "WWUAgdRxsMZg",
        "outputId": "f05ef318-0791-4097-8bac-51fa30447f5e"
      },
      "execution_count": null,
      "outputs": [
        {
          "output_type": "stream",
          "name": "stdout",
          "text": [
            "torch.Size([32, 8, 12, 12])\n",
            "torch.Size([32, 16, 12, 12])\n",
            "torch.Size([32, 16, 6, 6])\n"
          ]
        }
      ]
    },
    {
      "cell_type": "code",
      "source": [
        "maxpool = nn.MaxPool2d(2)\n",
        "x = torch.randn(1,6,6)\n",
        "print(x)\n",
        "print(maxpool(x))\n",
        "print(maxpool(torch.randn(32,3,6,6)).shape)"
      ],
      "metadata": {
        "colab": {
          "base_uri": "https://localhost:8080/"
        },
        "id": "ORzkiG3tstOK",
        "outputId": "583e2300-7d2d-4f26-a232-c3ed15980540"
      },
      "execution_count": null,
      "outputs": [
        {
          "output_type": "stream",
          "name": "stdout",
          "text": [
            "tensor([[[-1.2671, -1.3674, -0.2031, -2.5054, -1.2952, -1.1666],\n",
            "         [-0.3636,  1.9674, -1.0052, -0.4916,  2.1518,  0.1958],\n",
            "         [-1.8074,  1.2249,  1.5804, -1.5067,  0.8464,  0.3205],\n",
            "         [-0.1269,  0.2478,  0.2744, -0.2630,  0.4021, -1.2519],\n",
            "         [ 2.1584, -1.0529, -1.9150, -1.4069,  0.1849,  0.3869],\n",
            "         [ 0.3588,  1.2618, -0.4371, -0.7771,  2.0771, -1.9846]]])\n",
            "tensor([[[ 1.9674, -0.2031,  2.1518],\n",
            "         [ 1.2249,  1.5804,  0.8464],\n",
            "         [ 2.1584, -0.4371,  2.0771]]])\n",
            "torch.Size([32, 3, 3, 3])\n"
          ]
        }
      ]
    },
    {
      "cell_type": "code",
      "source": [
        "maxpool = nn.AvgPool2d(2)\n",
        "x = torch.randn(1,6,6)\n",
        "print(x)\n",
        "print(maxpool(x))\n",
        "print(maxpool(torch.randn(32,3,6,6)).shape)"
      ],
      "metadata": {
        "colab": {
          "base_uri": "https://localhost:8080/"
        },
        "id": "_WLnH9HJuMC0",
        "outputId": "6b772290-5435-4230-f3b1-f66a94d2b954"
      },
      "execution_count": null,
      "outputs": [
        {
          "output_type": "stream",
          "name": "stdout",
          "text": [
            "tensor([[[-1.6973,  0.4176,  1.2805, -0.6963,  0.7266, -0.2412],\n",
            "         [ 0.8258, -0.5234, -0.3560, -1.5052,  0.8879, -1.1183],\n",
            "         [-0.8007,  0.5926, -0.8668,  0.6090, -0.8903, -0.4078],\n",
            "         [ 0.6985,  2.1096,  1.0604,  0.3729, -0.6818, -1.2578],\n",
            "         [ 0.4783,  0.2312, -1.7342, -0.1264, -0.9615,  2.0580],\n",
            "         [ 0.6023,  0.0623, -0.4100, -1.9286,  2.1107, -0.2622]]])\n",
            "tensor([[[-0.2444, -0.3193,  0.0638],\n",
            "         [ 0.6500,  0.2939, -0.8094],\n",
            "         [ 0.3435, -1.0498,  0.7362]]])\n",
            "torch.Size([32, 3, 3, 3])\n"
          ]
        }
      ]
    },
    {
      "cell_type": "code",
      "source": [
        "class CNN(nn.Module):\n",
        "    def __init__(self):\n",
        "        super().__init__()\n",
        "\n",
        "        self.conv1 = nn.Conv2d(1,8,6,stride=2)\n",
        "        self.conv2 = nn.Conv2d(8,16,3,padding=1)\n",
        "        self.Maxpool = nn.MaxPool2d(2)\n",
        "        self.fc = nn.Linear(16*6*6, 10)\n",
        "\n",
        "    def forward(self, x):\n",
        "        x = self.conv1(x)\n",
        "        x = self.conv2(x)\n",
        "        x = self.Maxpool(x)\n",
        "        x = torch.flatten(x, start_dim = 1)\n",
        "        x = self.fc(x)\n",
        "        return x"
      ],
      "metadata": {
        "id": "iQXm0wXGuV5V"
      },
      "execution_count": null,
      "outputs": []
    },
    {
      "cell_type": "code",
      "source": [
        "model = CNN()\n",
        "model"
      ],
      "metadata": {
        "colab": {
          "base_uri": "https://localhost:8080/"
        },
        "id": "iiWVFGNpvrOG",
        "outputId": "e602d193-7ff9-4317-d683-87f11f727228"
      },
      "execution_count": null,
      "outputs": [
        {
          "output_type": "execute_result",
          "data": {
            "text/plain": [
              "CNN(\n",
              "  (conv1): Conv2d(1, 8, kernel_size=(6, 6), stride=(2, 2))\n",
              "  (conv2): Conv2d(8, 16, kernel_size=(6, 6), stride=(1, 1), padding=(1, 1))\n",
              "  (Maxpool): MaxPool2d(kernel_size=2, stride=2, padding=0, dilation=1, ceil_mode=False)\n",
              "  (fc): Linear(in_features=18432, out_features=10, bias=True)\n",
              ")"
            ]
          },
          "metadata": {},
          "execution_count": 32
        }
      ]
    },
    {
      "cell_type": "code",
      "source": [
        "x = torch.randn(32,1,28,28)\n",
        "model = CNN()\n",
        "print(model(x).shape)"
      ],
      "metadata": {
        "colab": {
          "base_uri": "https://localhost:8080/"
        },
        "id": "XAyvw_Pdu-ll",
        "outputId": "4bef93a7-69e7-4fb8-aba5-c6a5c12eb19a"
      },
      "execution_count": null,
      "outputs": [
        {
          "output_type": "stream",
          "name": "stdout",
          "text": [
            "torch.Size([32, 10])\n"
          ]
        }
      ]
    },
    {
      "cell_type": "markdown",
      "source": [
        "## .parameters() vs .modules() vs .children() 그리고 isinstance의 활용"
      ],
      "metadata": {
        "id": "eNIsTEEN8sd5"
      }
    },
    {
      "cell_type": "code",
      "source": [
        "class MLP(nn.Module):\n",
        "    def __init__(self):\n",
        "        super().__init__()\n",
        "        self.fc1 = nn.Sequential(nn.Linear(2,3),\n",
        "                                 nn.ReLU())\n",
        "        self.fc2 = nn.Sequential(nn.Linear(3,4),\n",
        "                                 nn.ReLU())\n",
        "        self.fc_out = nn.Sequential(nn.Linear(4,1),\n",
        "                                    nn.Sigmoid())\n",
        "    def forward(self,x):\n",
        "        x = self.fc1(x)\n",
        "        x = self.fc2(x)\n",
        "        x = self.fc_out(x)\n",
        "        return x\n",
        "        \n",
        "model = MLP()\n",
        "print(model(torch.randn(2,2)).shape)\n",
        "print(model)"
      ],
      "metadata": {
        "colab": {
          "base_uri": "https://localhost:8080/"
        },
        "id": "LAmNv2crvxWz",
        "outputId": "af7460a5-5636-4d24-a168-5e5095ceb72a"
      },
      "execution_count": null,
      "outputs": [
        {
          "output_type": "stream",
          "name": "stdout",
          "text": [
            "torch.Size([2, 1])\n",
            "MLP(\n",
            "  (fc1): Sequential(\n",
            "    (0): Linear(in_features=2, out_features=3, bias=True)\n",
            "    (1): ReLU()\n",
            "  )\n",
            "  (fc2): Sequential(\n",
            "    (0): Linear(in_features=3, out_features=4, bias=True)\n",
            "    (1): ReLU()\n",
            "  )\n",
            "  (fc_out): Sequential(\n",
            "    (0): Linear(in_features=4, out_features=1, bias=True)\n",
            "    (1): Sigmoid()\n",
            "  )\n",
            ")\n"
          ]
        }
      ]
    },
    {
      "cell_type": "code",
      "source": [
        "model.parameters()"
      ],
      "metadata": {
        "colab": {
          "base_uri": "https://localhost:8080/"
        },
        "id": "Nv54zqd2819V",
        "outputId": "f39ab6af-86ce-49ac-e42e-dbc8e59f08b4"
      },
      "execution_count": null,
      "outputs": [
        {
          "output_type": "execute_result",
          "data": {
            "text/plain": [
              "<generator object Module.parameters at 0x7f046f1886d0>"
            ]
          },
          "metadata": {},
          "execution_count": 37
        }
      ]
    },
    {
      "cell_type": "code",
      "source": [
        "list(model.parameters())[0]\n",
        "# [layer0 weight 값, layer0 bias 값, layer1 weight 값, layer1 bias 값, ...]"
      ],
      "metadata": {
        "colab": {
          "base_uri": "https://localhost:8080/"
        },
        "id": "JUWOs_O_8_E7",
        "outputId": "b14bec4f-ece7-4b40-a3b0-31e614f68606"
      },
      "execution_count": null,
      "outputs": [
        {
          "output_type": "execute_result",
          "data": {
            "text/plain": [
              "Parameter containing:\n",
              "tensor([[-0.5683, -0.6002],\n",
              "        [-0.5185, -0.1924],\n",
              "        [ 0.0231, -0.1096]], requires_grad=True)"
            ]
          },
          "metadata": {},
          "execution_count": 43
        }
      ]
    },
    {
      "cell_type": "code",
      "source": [
        "# for transfer learning (전이학습)\n",
        "model = MLP()\n",
        "# 학습완료\n",
        "\n",
        "for p in model.parameters(): # 전체 freeze\n",
        "    p.requires_grad = False # backward시 전체에 대해 미분이 일어나지않음\n",
        "\n",
        "model.fc_out = nn.Linear(4,10) # 10개 분류로 변경 (다시 requires_grad가 true로 변경됨)\n",
        "\n",
        "# 마지막 requires_grad확인인\n",
        "params = [p for p in model.parameters()]\n",
        "print(params)\n",
        "#backward()\n",
        "\n",
        "from torch import optim\n",
        "optimizer = optim.Adam(params, lr = 0.1)"
      ],
      "metadata": {
        "colab": {
          "base_uri": "https://localhost:8080/"
        },
        "id": "e0UtvcuM9B_H",
        "outputId": "0bf07b8e-c353-4ec7-e072-551ca4e70686"
      },
      "execution_count": null,
      "outputs": [
        {
          "output_type": "stream",
          "name": "stdout",
          "text": [
            "[Parameter containing:\n",
            "tensor([[-0.5330, -0.3082],\n",
            "        [ 0.6608, -0.0414],\n",
            "        [-0.4278,  0.4770]]), Parameter containing:\n",
            "tensor([-0.6077, -0.1673, -0.2564]), Parameter containing:\n",
            "tensor([[ 0.2484,  0.3453, -0.2130],\n",
            "        [ 0.2475, -0.4583,  0.0360],\n",
            "        [-0.2401, -0.3378, -0.0813],\n",
            "        [ 0.0721,  0.0815,  0.2351]]), Parameter containing:\n",
            "tensor([ 0.3105, -0.5657,  0.1300, -0.0681]), Parameter containing:\n",
            "tensor([[ 0.0126, -0.3676,  0.2845, -0.3071],\n",
            "        [ 0.0554,  0.2092, -0.3572,  0.3910],\n",
            "        [ 0.3382, -0.1689,  0.2389,  0.3243],\n",
            "        [ 0.4720,  0.4015, -0.0828,  0.4303],\n",
            "        [ 0.0355, -0.2853, -0.1568,  0.1021],\n",
            "        [ 0.0122,  0.2480, -0.0062, -0.2764],\n",
            "        [ 0.1938, -0.3965,  0.2165,  0.1305],\n",
            "        [ 0.3666, -0.3306,  0.0852,  0.0481],\n",
            "        [-0.1427, -0.0468,  0.0161,  0.4874],\n",
            "        [-0.1750,  0.0630, -0.0792, -0.3998]], requires_grad=True), Parameter containing:\n",
            "tensor([-0.3234,  0.3842,  0.2709,  0.4646,  0.1472,  0.2518, -0.0446,  0.4728,\n",
            "         0.2930, -0.3721], requires_grad=True)]\n"
          ]
        }
      ]
    },
    {
      "cell_type": "code",
      "source": [
        "list(model.named_parameters())\n",
        "# [('layer0.weight', weight 값), ('layer0.bias', bias 값), ('layer1.weight', weight 값), ('layer1.bias', bias 값), ...]⎮"
      ],
      "metadata": {
        "colab": {
          "base_uri": "https://localhost:8080/"
        },
        "id": "PajU1Upc-wYF",
        "outputId": "b98e012e-d792-48e9-b871-254d02d99948"
      },
      "execution_count": null,
      "outputs": [
        {
          "output_type": "execute_result",
          "data": {
            "text/plain": [
              "[('fc1.0.weight', Parameter containing:\n",
              "  tensor([[-0.5330, -0.3082],\n",
              "          [ 0.6608, -0.0414],\n",
              "          [-0.4278,  0.4770]])), ('fc1.0.bias', Parameter containing:\n",
              "  tensor([-0.6077, -0.1673, -0.2564])), ('fc2.0.weight', Parameter containing:\n",
              "  tensor([[ 0.2484,  0.3453, -0.2130],\n",
              "          [ 0.2475, -0.4583,  0.0360],\n",
              "          [-0.2401, -0.3378, -0.0813],\n",
              "          [ 0.0721,  0.0815,  0.2351]])), ('fc2.0.bias', Parameter containing:\n",
              "  tensor([ 0.3105, -0.5657,  0.1300, -0.0681])), ('fc_out.weight',\n",
              "  Parameter containing:\n",
              "  tensor([[ 0.0126, -0.3676,  0.2845, -0.3071],\n",
              "          [ 0.0554,  0.2092, -0.3572,  0.3910],\n",
              "          [ 0.3382, -0.1689,  0.2389,  0.3243],\n",
              "          [ 0.4720,  0.4015, -0.0828,  0.4303],\n",
              "          [ 0.0355, -0.2853, -0.1568,  0.1021],\n",
              "          [ 0.0122,  0.2480, -0.0062, -0.2764],\n",
              "          [ 0.1938, -0.3965,  0.2165,  0.1305],\n",
              "          [ 0.3666, -0.3306,  0.0852,  0.0481],\n",
              "          [-0.1427, -0.0468,  0.0161,  0.4874],\n",
              "          [-0.1750,  0.0630, -0.0792, -0.3998]], requires_grad=True)), ('fc_out.bias',\n",
              "  Parameter containing:\n",
              "  tensor([-0.3234,  0.3842,  0.2709,  0.4646,  0.1472,  0.2518, -0.0446,  0.4728,\n",
              "           0.2930, -0.3721], requires_grad=True))]"
            ]
          },
          "metadata": {},
          "execution_count": 48
        }
      ]
    },
    {
      "cell_type": "code",
      "source": [
        "# 사용법\n",
        "for name, p in model.named_parameters():\n",
        "    print(name)\n",
        "    print(p)"
      ],
      "metadata": {
        "colab": {
          "base_uri": "https://localhost:8080/"
        },
        "id": "kaDZZnmQ_jzp",
        "outputId": "4fc6b31a-d63f-4a76-9ea8-005f259f528d"
      },
      "execution_count": null,
      "outputs": [
        {
          "output_type": "stream",
          "name": "stdout",
          "text": [
            "fc1.0.weight\n",
            "Parameter containing:\n",
            "tensor([[-0.5330, -0.3082],\n",
            "        [ 0.6608, -0.0414],\n",
            "        [-0.4278,  0.4770]])\n",
            "fc1.0.bias\n",
            "Parameter containing:\n",
            "tensor([-0.6077, -0.1673, -0.2564])\n",
            "fc2.0.weight\n",
            "Parameter containing:\n",
            "tensor([[ 0.2484,  0.3453, -0.2130],\n",
            "        [ 0.2475, -0.4583,  0.0360],\n",
            "        [-0.2401, -0.3378, -0.0813],\n",
            "        [ 0.0721,  0.0815,  0.2351]])\n",
            "fc2.0.bias\n",
            "Parameter containing:\n",
            "tensor([ 0.3105, -0.5657,  0.1300, -0.0681])\n",
            "fc_out.weight\n",
            "Parameter containing:\n",
            "tensor([[ 0.0126, -0.3676,  0.2845, -0.3071],\n",
            "        [ 0.0554,  0.2092, -0.3572,  0.3910],\n",
            "        [ 0.3382, -0.1689,  0.2389,  0.3243],\n",
            "        [ 0.4720,  0.4015, -0.0828,  0.4303],\n",
            "        [ 0.0355, -0.2853, -0.1568,  0.1021],\n",
            "        [ 0.0122,  0.2480, -0.0062, -0.2764],\n",
            "        [ 0.1938, -0.3965,  0.2165,  0.1305],\n",
            "        [ 0.3666, -0.3306,  0.0852,  0.0481],\n",
            "        [-0.1427, -0.0468,  0.0161,  0.4874],\n",
            "        [-0.1750,  0.0630, -0.0792, -0.3998]], requires_grad=True)\n",
            "fc_out.bias\n",
            "Parameter containing:\n",
            "tensor([-0.3234,  0.3842,  0.2709,  0.4646,  0.1472,  0.2518, -0.0446,  0.4728,\n",
            "         0.2930, -0.3721], requires_grad=True)\n"
          ]
        }
      ]
    },
    {
      "cell_type": "code",
      "source": [
        "list(model.modules())\n",
        "# 0은 전체, 1은 처음 fc1전체, 2는 fc1의 linear부분 ..."
      ],
      "metadata": {
        "colab": {
          "base_uri": "https://localhost:8080/"
        },
        "id": "oMAWrJXb_yN5",
        "outputId": "1a1ba0ba-4a7a-4668-d8ff-4314a3a6dd4e"
      },
      "execution_count": null,
      "outputs": [
        {
          "output_type": "execute_result",
          "data": {
            "text/plain": [
              "[MLP(\n",
              "   (fc1): Sequential(\n",
              "     (0): Linear(in_features=2, out_features=3, bias=True)\n",
              "     (1): ReLU()\n",
              "   )\n",
              "   (fc2): Sequential(\n",
              "     (0): Linear(in_features=3, out_features=4, bias=True)\n",
              "     (1): ReLU()\n",
              "   )\n",
              "   (fc_out): Linear(in_features=4, out_features=10, bias=True)\n",
              " ), Sequential(\n",
              "   (0): Linear(in_features=2, out_features=3, bias=True)\n",
              "   (1): ReLU()\n",
              " ), Linear(in_features=2, out_features=3, bias=True), ReLU(), Sequential(\n",
              "   (0): Linear(in_features=3, out_features=4, bias=True)\n",
              "   (1): ReLU()\n",
              " ), Linear(in_features=3, out_features=4, bias=True), ReLU(), Linear(in_features=4, out_features=10, bias=True)]"
            ]
          },
          "metadata": {},
          "execution_count": 52
        }
      ]
    },
    {
      "cell_type": "code",
      "source": [
        "# 사용법\n",
        "print([m for m in model.modules() if isinstance(m, nn.Linear)])\n",
        "print([m.weight for m in model.modules() if isinstance(m, nn.Linear)])\n",
        "print([m.weight.grad for m in model.modules() if isinstance(m, nn.Linear)])\n",
        "# nn.Linear에 대한 "
      ],
      "metadata": {
        "colab": {
          "base_uri": "https://localhost:8080/"
        },
        "id": "t0_QrFAD_z7U",
        "outputId": "e2655339-1d43-40e1-ab76-d5ebc51a70c7"
      },
      "execution_count": null,
      "outputs": [
        {
          "output_type": "stream",
          "name": "stdout",
          "text": [
            "[Linear(in_features=2, out_features=3, bias=True), Linear(in_features=3, out_features=4, bias=True), Linear(in_features=4, out_features=10, bias=True)]\n",
            "[Parameter containing:\n",
            "tensor([[-0.5330, -0.3082],\n",
            "        [ 0.6608, -0.0414],\n",
            "        [-0.4278,  0.4770]]), Parameter containing:\n",
            "tensor([[ 0.2484,  0.3453, -0.2130],\n",
            "        [ 0.2475, -0.4583,  0.0360],\n",
            "        [-0.2401, -0.3378, -0.0813],\n",
            "        [ 0.0721,  0.0815,  0.2351]]), Parameter containing:\n",
            "tensor([[ 0.0126, -0.3676,  0.2845, -0.3071],\n",
            "        [ 0.0554,  0.2092, -0.3572,  0.3910],\n",
            "        [ 0.3382, -0.1689,  0.2389,  0.3243],\n",
            "        [ 0.4720,  0.4015, -0.0828,  0.4303],\n",
            "        [ 0.0355, -0.2853, -0.1568,  0.1021],\n",
            "        [ 0.0122,  0.2480, -0.0062, -0.2764],\n",
            "        [ 0.1938, -0.3965,  0.2165,  0.1305],\n",
            "        [ 0.3666, -0.3306,  0.0852,  0.0481],\n",
            "        [-0.1427, -0.0468,  0.0161,  0.4874],\n",
            "        [-0.1750,  0.0630, -0.0792, -0.3998]], requires_grad=True)]\n",
            "[None, None, None]\n"
          ]
        }
      ]
    },
    {
      "cell_type": "code",
      "source": [
        "# weight initialization 에 활용\n",
        "for m in model.modules():\n",
        "    if isinstance(m, nn.Linear): # nn.linear에 해당되는 부분만 1로 변경경\n",
        "        nn.init.kaiming_normal_(m.weight)\n",
        "        nn.init.constant_(m.weight, 1)\n",
        "print([m.weight for m in model.modules() if isinstance(m, nn.Linear)])"
      ],
      "metadata": {
        "colab": {
          "base_uri": "https://localhost:8080/"
        },
        "id": "31xiboRgAe_r",
        "outputId": "a5af1970-9b45-42d9-eba0-ee9f15b436d1"
      },
      "execution_count": null,
      "outputs": [
        {
          "output_type": "stream",
          "name": "stdout",
          "text": [
            "[Parameter containing:\n",
            "tensor([[1., 1.],\n",
            "        [1., 1.],\n",
            "        [1., 1.]]), Parameter containing:\n",
            "tensor([[1., 1., 1.],\n",
            "        [1., 1., 1.],\n",
            "        [1., 1., 1.],\n",
            "        [1., 1., 1.]]), Parameter containing:\n",
            "tensor([[1., 1., 1., 1.],\n",
            "        [1., 1., 1., 1.],\n",
            "        [1., 1., 1., 1.],\n",
            "        [1., 1., 1., 1.],\n",
            "        [1., 1., 1., 1.],\n",
            "        [1., 1., 1., 1.],\n",
            "        [1., 1., 1., 1.],\n",
            "        [1., 1., 1., 1.],\n",
            "        [1., 1., 1., 1.],\n",
            "        [1., 1., 1., 1.]], requires_grad=True)]\n"
          ]
        }
      ]
    },
    {
      "cell_type": "code",
      "source": [
        "list(model.children())"
      ],
      "metadata": {
        "colab": {
          "base_uri": "https://localhost:8080/"
        },
        "id": "WJGjM5BJBNAB",
        "outputId": "71a6b37e-67a2-4407-bc21-1ab5e9140d75"
      },
      "execution_count": null,
      "outputs": [
        {
          "output_type": "execute_result",
          "data": {
            "text/plain": [
              "[Sequential(\n",
              "   (0): Linear(in_features=2, out_features=3, bias=True)\n",
              "   (1): ReLU()\n",
              " ), Sequential(\n",
              "   (0): Linear(in_features=3, out_features=4, bias=True)\n",
              "   (1): ReLU()\n",
              " ), Linear(in_features=4, out_features=10, bias=True)]"
            ]
          },
          "metadata": {},
          "execution_count": 62
        }
      ]
    },
    {
      "cell_type": "code",
      "source": [
        "x = torch.randn(2,2)\n",
        "list(model.children())[0](x)"
      ],
      "metadata": {
        "colab": {
          "base_uri": "https://localhost:8080/"
        },
        "id": "LkJwOhLxBdR3",
        "outputId": "2ac76eeb-2577-4a3d-8009-45fc9fc5ec19"
      },
      "execution_count": null,
      "outputs": [
        {
          "output_type": "execute_result",
          "data": {
            "text/plain": [
              "tensor([[0., 0., 0.],\n",
              "        [0., 0., 0.]])"
            ]
          },
          "metadata": {},
          "execution_count": 64
        }
      ]
    },
    {
      "cell_type": "code",
      "source": [
        "# childeren 사용법 \n",
        "## subnetwork 만들때 좋음\n",
        "sub_network = nn.Sequential(*list(model.children())[:2]) # 블럭단위로 줌\n",
        "print(sub_network)\n",
        "sub_network(x)"
      ],
      "metadata": {
        "colab": {
          "base_uri": "https://localhost:8080/"
        },
        "id": "3LPUg07sBmq1",
        "outputId": "912a8930-c4d4-48fd-c38d-4606008a2c24"
      },
      "execution_count": null,
      "outputs": [
        {
          "output_type": "stream",
          "name": "stdout",
          "text": [
            "Sequential(\n",
            "  (0): Sequential(\n",
            "    (0): Linear(in_features=2, out_features=3, bias=True)\n",
            "    (1): ReLU()\n",
            "  )\n",
            "  (1): Sequential(\n",
            "    (0): Linear(in_features=3, out_features=4, bias=True)\n",
            "    (1): ReLU()\n",
            "  )\n",
            ")\n"
          ]
        },
        {
          "output_type": "execute_result",
          "data": {
            "text/plain": [
              "tensor([[0.3105, 0.0000, 0.1300, 0.0000],\n",
              "        [0.3105, 0.0000, 0.1300, 0.0000]])"
            ]
          },
          "metadata": {},
          "execution_count": 66
        }
      ]
    },
    {
      "cell_type": "markdown",
      "source": [
        "## Sequential vs ModuleList"
      ],
      "metadata": {
        "id": "YWr_MupECBvh"
      }
    },
    {
      "cell_type": "code",
      "source": [
        "fc=nn.Linear(3,3)\n",
        "layer_list = [fc for _ in range(5)]\n",
        "layers1 = nn.Sequential(*layer_list)\n",
        "layers2 = nn.ModuleList(layer_list)\n",
        "print(layers1)\n",
        "print(layers2)\n",
        "\n",
        "x=torch.randn(1,3)\n",
        "print(layers1(x))\n",
        "\n",
        "# print(layers2(x)) # error! (for문으로 하나씩 돌려줘야함)\n",
        "for layer in layers2:\n",
        "    x = layer(x)\n",
        "print(x)"
      ],
      "metadata": {
        "colab": {
          "base_uri": "https://localhost:8080/"
        },
        "id": "gzWMwRYsB5of",
        "outputId": "82f79137-5a8d-47f3-e7ca-3dd3a9626656"
      },
      "execution_count": null,
      "outputs": [
        {
          "output_type": "stream",
          "name": "stdout",
          "text": [
            "Sequential(\n",
            "  (0): Linear(in_features=3, out_features=3, bias=True)\n",
            "  (1): Linear(in_features=3, out_features=3, bias=True)\n",
            "  (2): Linear(in_features=3, out_features=3, bias=True)\n",
            "  (3): Linear(in_features=3, out_features=3, bias=True)\n",
            "  (4): Linear(in_features=3, out_features=3, bias=True)\n",
            ")\n",
            "ModuleList(\n",
            "  (0): Linear(in_features=3, out_features=3, bias=True)\n",
            "  (1): Linear(in_features=3, out_features=3, bias=True)\n",
            "  (2): Linear(in_features=3, out_features=3, bias=True)\n",
            "  (3): Linear(in_features=3, out_features=3, bias=True)\n",
            "  (4): Linear(in_features=3, out_features=3, bias=True)\n",
            ")\n",
            "tensor([[ 1.2796e-04, -3.0337e-01, -3.8524e-02]], grad_fn=<AddmmBackward0>)\n",
            "tensor([[ 1.2796e-04, -3.0337e-01, -3.8524e-02]], grad_fn=<AddmmBackward0>)\n"
          ]
        }
      ]
    },
    {
      "cell_type": "code",
      "source": [
        "# 걍 리스트 쓰지 왜 nn.ModuleList 를 쓸까?\n",
        "class testNet(nn.Module):\n",
        "    def __init__(self):\n",
        "        super().__init__()\n",
        "\n",
        "        # self.Module_List = [nn.Linear(3,3), nn.Linear(3,3)] # 해당 모듈은 등록이 안되어있다.\n",
        "        self.Module_List = nn.ModuleList([nn.Linear(3,3), nn.Linear(3,3)])\n",
        "\n",
        "    def forward(self,x):\n",
        "        for layer in self.Module_List:\n",
        "            x = layer(x)\n",
        "        return x\n",
        "\n",
        "model=testNet()\n",
        "print(model(torch.randn(1,3)))\n",
        "\n",
        "print(model) # 그냥 리스트로 하면 등록이 안돼있다!\n",
        "\n",
        "optimizer = optim.Adam(model.parameters(), lr = 0.1) # 등록이 안돼있으면 parameter를 못 찾는다!"
      ],
      "metadata": {
        "colab": {
          "base_uri": "https://localhost:8080/"
        },
        "id": "GLWsi8VUCIgS",
        "outputId": "17f2f9c6-be6e-4787-ab30-0a070e5ec80c"
      },
      "execution_count": null,
      "outputs": [
        {
          "output_type": "stream",
          "name": "stdout",
          "text": [
            "tensor([[0.1428, 0.6363, 0.1973]], grad_fn=<AddmmBackward0>)\n",
            "testNet(\n",
            "  (Module_List): ModuleList(\n",
            "    (0): Linear(in_features=3, out_features=3, bias=True)\n",
            "    (1): Linear(in_features=3, out_features=3, bias=True)\n",
            "  )\n",
            ")\n"
          ]
        }
      ]
    },
    {
      "cell_type": "code",
      "source": [
        "# 그럼 nn.Sequential 쓰고 말지 왜 굳이 nn.ModuleList?\n",
        "class small_block(nn.Module):\n",
        "    def __init__(self):\n",
        "        super().__init__()\n",
        "        self.block_x = nn.Linear(1,1)\n",
        "        self.block_y = nn.Linear(1,1)\n",
        "\n",
        "    def forward(self, x, y): # 1. 입력받는 값 인자 2개\n",
        "        x = self.block_x(x)\n",
        "        y = self.block_y(y)\n",
        "        return x, y\n",
        "\n",
        "block = small_block()\n",
        "print(block)\n",
        "model = nn.Sequential(block, block) # small블록을 2개를 만들어서 연결\n",
        "print(model)\n",
        "# model(torch.randn(1),torch.randn(1)) # error!\n",
        "# 2. nn.Sequential 이 가지고 있는 forward 함수를 call 하기 때문에 입력을 두 개 넣으면 안된다!!\n",
        "\n",
        "model = nn.ModuleList([block,block]) # 그냥 리스트로 넣으면 등록이 안되기 때문에 modulelist를 이용\n",
        "x = torch.randn(1)\n",
        "y = torch.randn(1)\n",
        "for block in model:\n",
        "    x, y = block(x,y)\n",
        "print(x, y)"
      ],
      "metadata": {
        "id": "XGt9mlGuCfju"
      },
      "execution_count": null,
      "outputs": []
    }
  ]
}